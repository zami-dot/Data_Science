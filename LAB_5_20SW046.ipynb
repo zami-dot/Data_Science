{
  "nbformat": 4,
  "nbformat_minor": 0,
  "metadata": {
    "colab": {
      "provenance": [],
      "authorship_tag": "ABX9TyO+ZlIv153FZb7R+wVxvzsZ",
      "include_colab_link": true
    },
    "kernelspec": {
      "name": "python3",
      "display_name": "Python 3"
    },
    "language_info": {
      "name": "python"
    }
  },
  "cells": [
    {
      "cell_type": "markdown",
      "metadata": {
        "id": "view-in-github",
        "colab_type": "text"
      },
      "source": [
        "<a href=\"https://colab.research.google.com/github/zami-dot/Data_Science/blob/main/LAB_5_20SW046.ipynb\" target=\"_parent\"><img src=\"https://colab.research.google.com/assets/colab-badge.svg\" alt=\"Open In Colab\"/></a>"
      ]
    },
    {
      "cell_type": "markdown",
      "source": [
        "LAB 5\n",
        "\n",
        "Roll_no 20SW046\n",
        "\n",
        "Section 2"
      ],
      "metadata": {
        "id": "T4BhXOPUEehF"
      }
    },
    {
      "cell_type": "markdown",
      "source": [
        "# LAB 5\n",
        "\n",
        "\n"
      ],
      "metadata": {
        "id": "96YK9YJZEjNM"
      }
    },
    {
      "cell_type": "markdown",
      "source": [
        "#Task 01\n",
        "\n"
      ],
      "metadata": {
        "id": "K4LhOt55EpKy"
      }
    },
    {
      "cell_type": "code",
      "source": [
        "import pandas as pd\n",
        "\n",
        "# Create a Pandas Series that contains the distance of some planets from the Sun.\n",
        "# Use the name of the planets as the index to your Pandas Series, and the distance\n",
        "# from the Sun as your data. The distance from the Sun is in units of 10^6 km\n",
        "\n",
        "distance_from_sun = [149.6, 1433.5, 227.9, 108.2, 778.6]\n",
        "\n",
        "planets = ['Earth','Saturn', 'Mars','Venus', 'Jupiter']\n",
        "\n",
        "# Create a Pandas Series using the above data, with the name of the planets as\n",
        "# the index and the distance from the Sun as your data.\n",
        "dist_planets = pd.Series(distance_from_sun, index=planets)\n",
        "\n",
        "# Calculate the number of minutes it takes sunlight to reach each planet. You can\n",
        "# do this by dividing the distance from the Sun for each planet by the speed of light.\n",
        "# Since in the data above the distance from the Sun is in units of 10^6 km, you can\n",
        "# use a value for the speed of light of c = 18, since light travels 18 x 10^6 km/minute.\n",
        "time_light = dist_planets/18\n",
        "\n",
        "# Use Boolean indexing to select only those planets for which sunlight takes less\n",
        "# than 40 minutes to reach them.\n",
        "close_planets = time_light[time_light < 40]\n",
        "print(\"Distance from Sun:\")\n",
        "print(dist_planets)\n",
        "print(\"\\nTime for Sunlight to Reach Each Planet (minutes):\")\n",
        "print(time_light)\n",
        "print(\"\\nPlanets where Sunlight Takes Less than 40 Minutes:\")\n",
        "print(close_planets)"
      ],
      "metadata": {
        "colab": {
          "base_uri": "https://localhost:8080/"
        },
        "id": "5V_jKKULEvyx",
        "outputId": "943e7a5a-2d36-4fdf-b02b-1e9a2534aa31"
      },
      "execution_count": null,
      "outputs": [
        {
          "output_type": "stream",
          "name": "stdout",
          "text": [
            "Distance from Sun:\n",
            "Earth       149.6\n",
            "Saturn     1433.5\n",
            "Mars        227.9\n",
            "Venus       108.2\n",
            "Jupiter     778.6\n",
            "dtype: float64\n",
            "\n",
            "Time for Sunlight to Reach Each Planet (minutes):\n",
            "Earth       8.311111\n",
            "Saturn     79.638889\n",
            "Mars       12.661111\n",
            "Venus       6.011111\n",
            "Jupiter    43.255556\n",
            "dtype: float64\n",
            "\n",
            "Planets where Sunlight Takes Less than 40 Minutes:\n",
            "Earth     8.311111\n",
            "Mars     12.661111\n",
            "Venus     6.011111\n",
            "dtype: float64\n"
          ]
        }
      ]
    },
    {
      "cell_type": "markdown",
      "source": [
        "# TASK 02\n"
      ],
      "metadata": {
        "id": "BaoU5hPnF5TO"
      }
    },
    {
      "cell_type": "code",
      "source": [
        "import pandas as pd\n",
        "import numpy as np\n",
        "\n",
        "# Since we will be working with ratings, we will set the precision of our\n",
        "# dataframes to one decimal place.\n",
        "#pd.set_option('precision', 1)\n",
        "\n",
        "# Create a Pandas DataFrame that contains the ratings some users have given to a\n",
        "# series of books. The ratings given are in the range from 1 to 5, with 5 being\n",
        "# the best score. The names of the books, the authors, and the ratings of each user\n",
        "# are given below:\n",
        "\n",
        "books = pd.Series(data = ['Great Expectations', 'Of Mice and Men', 'Romeo and Juliet', 'The Time Machine', 'Alice in Wonderland' ])\n",
        "authors = pd.Series(data = ['Charles Dickens', 'John Steinbeck', 'William Shakespeare', ' H. G. Wells', 'Lewis Carroll' ])\n",
        "\n",
        "user_1 = pd.Series(data = [3.2, np.nan ,2.5])\n",
        "user_2 = pd.Series(data = [5., 1.3, 4.0, 3.8])\n",
        "user_3 = pd.Series(data = [2.0, 2.3, np.nan, 4])\n",
        "user_4 = pd.Series(data = [4, 3.5, 4, 5, 4.2])\n",
        "\n",
        "# Users that have np.nan values means that the user has not yet rated that book.\n",
        "# Use the data above to create a Pandas DataFrame that has the following column\n",
        "# labels: 'Author', 'Book Title', 'User 1', 'User 2', 'User 3', 'User 4'. Let Pandas\n",
        "# automatically assign numerical row indices to the DataFrame.\n",
        "\n",
        "# Create a dictionary with the data given above\n",
        "dat = {\n",
        "    'Author': authors,\n",
        "    'Book Title': books,\n",
        "    'User 1': user_1,\n",
        "    'User 2': user_2,\n",
        "    'User 3': user_3,\n",
        "    'User 4': user_4\n",
        "}\n",
        "\n",
        "# Use the dictionary to create a Pandas DataFrame\n",
        "book_ratings = pd.DataFrame(dat)\n",
        "\n",
        "# If you created the dictionary correctly you should have a Pandas DataFrame\n",
        "# that has column labels: 'Author', 'Book Title', 'User 1', 'User 2', 'User 3',\n",
        "# 'User 4' and row indices 0 through 4.\n",
        "\n",
        "# Now replace all the NaN values in your DataFrame with the average rating in\n",
        "# each column. Replace the NaN values in place. HINT: you can use the fillna()\n",
        "# function with the keyword inplace = True, to do this. Write your code below:\n",
        "book_ratings.fillna(book_ratings.mean(), inplace=True)\n",
        "print(\"Book Ratings:\")\n",
        "print(book_ratings)"
      ],
      "metadata": {
        "colab": {
          "base_uri": "https://localhost:8080/"
        },
        "id": "tg1snB7JF7oJ",
        "outputId": "8146de85-8241-4d4c-e88a-751e0a1f0d27"
      },
      "execution_count": null,
      "outputs": [
        {
          "output_type": "stream",
          "name": "stdout",
          "text": [
            "Book Ratings:\n",
            "                Author           Book Title  User 1  User 2    User 3  User 4\n",
            "0      Charles Dickens   Great Expectations    3.20   5.000  2.000000     4.0\n",
            "1       John Steinbeck      Of Mice and Men    2.85   1.300  2.300000     3.5\n",
            "2  William Shakespeare     Romeo and Juliet    2.50   4.000  2.766667     4.0\n",
            "3          H. G. Wells     The Time Machine    2.85   3.800  4.000000     5.0\n",
            "4        Lewis Carroll  Alice in Wonderland    2.85   3.525  2.766667     4.2\n"
          ]
        },
        {
          "output_type": "stream",
          "name": "stderr",
          "text": [
            "<ipython-input-9-58cfbb734721>:46: FutureWarning: The default value of numeric_only in DataFrame.mean is deprecated. In a future version, it will default to False. In addition, specifying 'numeric_only=None' is deprecated. Select only valid columns or specify the value of numeric_only to silence this warning.\n",
            "  book_ratings.fillna(book_ratings.mean(), inplace=True)\n"
          ]
        }
      ]
    }
  ]
}