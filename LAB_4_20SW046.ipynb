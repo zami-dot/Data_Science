{
  "nbformat": 4,
  "nbformat_minor": 0,
  "metadata": {
    "colab": {
      "provenance": [],
      "authorship_tag": "ABX9TyN7+SHiUlNwLzXJMDbjqWvs",
      "include_colab_link": true
    },
    "kernelspec": {
      "name": "python3",
      "display_name": "Python 3"
    },
    "language_info": {
      "name": "python"
    }
  },
  "cells": [
    {
      "cell_type": "markdown",
      "metadata": {
        "id": "view-in-github",
        "colab_type": "text"
      },
      "source": [
        "<a href=\"https://colab.research.google.com/github/zami-dot/Data_Science/blob/main/LAB_4_20SW046.ipynb\" target=\"_parent\"><img src=\"https://colab.research.google.com/assets/colab-badge.svg\" alt=\"Open In Colab\"/></a>"
      ]
    },
    {
      "cell_type": "markdown",
      "source": [
        "LAB 4\n",
        "\n",
        "Roll_no 20SW046\n",
        "\n",
        "Section 2"
      ],
      "metadata": {
        "id": "LS-HgxTtfLIR"
      }
    },
    {
      "cell_type": "markdown",
      "source": [
        "LAB 3\n",
        "\n",
        "# TASK 1\n",
        "import numpy as np\n",
        "\n",
        " Using the Built-in functions you learned about in the\n",
        " previous lesson, create a 4 x 4 ndarray that only\n",
        " contains consecutive even numbers from 2 to 32 (inclusive)\n",
        "\n",
        "\n"
      ],
      "metadata": {
        "id": "vXpxreJHfZAx"
      }
    },
    {
      "cell_type": "code",
      "source": [
        "import numpy as np\n",
        "\n",
        "# Using the Built-in functions you learned about in the\n",
        "# previous lesson, create a 4 x 4 ndarray that only\n",
        "# contains consecutive even numbers from 2 to 32 (inclusive)\n",
        "\n",
        "x = np.arange(2,33,2)\n",
        "y = x.reshape(4,4)\n",
        "print(y)\n"
      ],
      "metadata": {
        "colab": {
          "base_uri": "https://localhost:8080/"
        },
        "id": "69Gk-QjHfuds",
        "outputId": "2df085d5-847d-48db-ead2-2fa70129ac9f"
      },
      "execution_count": null,
      "outputs": [
        {
          "output_type": "stream",
          "name": "stdout",
          "text": [
            "[[ 2  4  6  8]\n",
            " [10 12 14 16]\n",
            " [18 20 22 24]\n",
            " [26 28 30 32]]\n"
          ]
        }
      ]
    },
    {
      "cell_type": "markdown",
      "source": [
        "# TASK 2\n",
        " Create a 5 x 5 ndarray with consecutive integers from 1 to 25 (inclusive).\n",
        " Afterwards use Boolean indexing to pick out only the odd numbers in the array\n",
        " Create a 5 x 5 ndarray with consecutive integers from 1 to 25 (inclusive).\n",
        " Use Boolean indexing to pick out only the odd numbers in the array\n"
      ],
      "metadata": {
        "id": "Dhg6U5YEgoyD"
      }
    },
    {
      "cell_type": "code",
      "source": [
        "import numpy as np\n",
        "\n",
        "# Create a 5 x 5 ndarray with consecutive integers from 1 to 25 (inclusive).\n",
        "# Afterwards use Boolean indexing to pick out only the odd numbers in the array\n",
        "\n",
        "# Create a 5 x 5 ndarray with consecutive integers from 1 to 25 (inclusive).\n",
        "X = np.arange(1,26).reshape(5,5)\n",
        "print(X)\n",
        "# Use Boolean indexing to pick out only the odd numbers in the array\n",
        "Y = X[X%2 !=0]\n",
        "print(Y)\n"
      ],
      "metadata": {
        "colab": {
          "base_uri": "https://localhost:8080/"
        },
        "id": "cYakd9K_gymE",
        "outputId": "7bf402f5-767c-44dd-c9ad-57f18020a653"
      },
      "execution_count": null,
      "outputs": [
        {
          "output_type": "stream",
          "name": "stdout",
          "text": [
            "[[ 1  2  3  4  5]\n",
            " [ 6  7  8  9 10]\n",
            " [11 12 13 14 15]\n",
            " [16 17 18 19 20]\n",
            " [21 22 23 24 25]]\n",
            "[ 1  3  5  7  9 11 13 15 17 19 21 23 25]\n"
          ]
        }
      ]
    },
    {
      "cell_type": "markdown",
      "source": [
        "# Task#03\n",
        "import numpy as np\n",
        "\n",
        " Use Broadcasting to create a 4 x 4 ndarray that has its first\n",
        " column full of 1s, its second column full of 2s, its third\n",
        " column full of 3s, etc.."
      ],
      "metadata": {
        "id": "Nm9ymu9_h6hH"
      }
    },
    {
      "cell_type": "code",
      "source": [
        "#Task03\n",
        "import numpy as np\n",
        "\n",
        "# Use Broadcasting to create a 4 x 4 ndarray that has its first\n",
        "# column full of 1s, its second column full of 2s, its third\n",
        "# column full of 3s, etc..\n",
        "\n",
        "X = np.arange(1,5)[:, np.newaxis] * np.ones((4,4), dtype=int)\n",
        "print(X)\n"
      ],
      "metadata": {
        "colab": {
          "base_uri": "https://localhost:8080/"
        },
        "id": "O2MkKp6piIUn",
        "outputId": "6b2b6a2f-dff4-4cbf-bfdd-d26194fcfb01"
      },
      "execution_count": null,
      "outputs": [
        {
          "output_type": "stream",
          "name": "stdout",
          "text": [
            "[[1 1 1 1]\n",
            " [2 2 2 2]\n",
            " [3 3 3 3]\n",
            " [4 4 4 4]]\n"
          ]
        }
      ]
    }
  ]
}