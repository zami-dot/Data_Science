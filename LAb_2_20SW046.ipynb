{
  "nbformat": 4,
  "nbformat_minor": 0,
  "metadata": {
    "colab": {
      "provenance": [],
      "authorship_tag": "ABX9TyP4Fqh567ywr6wP0dMIwqdF",
      "include_colab_link": true
    },
    "kernelspec": {
      "name": "python3",
      "display_name": "Python 3"
    },
    "language_info": {
      "name": "python"
    }
  },
  "cells": [
    {
      "cell_type": "markdown",
      "metadata": {
        "id": "view-in-github",
        "colab_type": "text"
      },
      "source": [
        "<a href=\"https://colab.research.google.com/github/zami-dot/Data_Science/blob/main/LAb_2_20SW046.ipynb\" target=\"_parent\"><img src=\"https://colab.research.google.com/assets/colab-badge.svg\" alt=\"Open In Colab\"/></a>"
      ]
    },
    {
      "cell_type": "markdown",
      "source": [
        "\n",
        "LAB 2\n",
        "\n",
        "Roll_no 20SW046\n",
        "\n",
        "Section 2\n"
      ],
      "metadata": {
        "id": "ISsVvi3Xp9oA"
      }
    },
    {
      "cell_type": "markdown",
      "source": [
        "LAB 2\n",
        "\n",
        "# TASK 1\n",
        "Write an if that know competator for prize they have won according to number of point they scored\n",
        "\n",
        "1 - 50 wooden rabit\n",
        "\n",
        "51 - 150  no prize\n",
        "\n",
        "151 - 180 water-thin mint\n",
        "\n",
        "181 - 200 penguin\n"
      ],
      "metadata": {
        "id": "x3GkxHFyqAvZ"
      }
    },
    {
      "cell_type": "code",
      "source": [
        "points = 174 # use this input to make your submission\n",
        "result = \"\";\n",
        "#points = 50\n",
        "#points = 101\n",
        "#points = 181\n",
        "#point = 210\n",
        "#points = -10\n",
        "if (points>=1 and points <= 50):\n",
        "  result = \"Congratulations! you have won a wooden rabit\"\n",
        "\n",
        "elif (points>=51 and points <= 150):\n",
        "  result = \"Oh dear! no prize this time\"\n",
        "\n",
        "elif (points>=151 and points <= 180):\n",
        "  result = \"Congratulations! you have won a water-thin mint\"\n",
        "elif (points>=181 and points <= 200):\n",
        "  result = \"Congratulations! you have won a penguin\"\n",
        "else:\n",
        "  result = \"Oh dear! no prize this time\"\n",
        "\n",
        "\n",
        "\n",
        "# write your if statement here\n",
        "print(result)"
      ],
      "metadata": {
        "colab": {
          "base_uri": "https://localhost:8080/"
        },
        "id": "wIl9XiBxs9I3",
        "outputId": "a79e08bd-f4a8-4506-f2e0-337e3e6ec8a0"
      },
      "execution_count": null,
      "outputs": [
        {
          "output_type": "stream",
          "name": "stdout",
          "text": [
            "Congratulations! you have won a water-thin mint\n"
          ]
        }
      ]
    },
    {
      "cell_type": "markdown",
      "source": [
        "# TASK 2\n",
        "Guess My Number\n",
        "You decide you want to play a game where you are hiding a number from someone.\n",
        "Store this number in a variable called 'answer'. Another user provides a number\n",
        "called 'guess'. By comparing guess to answer, you inform the user if their guess is too\n",
        "high or too low."
      ],
      "metadata": {
        "id": "K7M7DkFHwZCs"
      }
    },
    {
      "cell_type": "code",
      "source": [
        "# '''\n",
        "# You decide you want to play a game where you are hiding\n",
        "# a number from someone. Store this number in a variable\n",
        "# called 'answer'. Another user provides a number called\n",
        "# 'guess'. By comparing guess to answer, you inform the user\n",
        "# if their guess is too high or too low.\n",
        "# Fill in the conditionals below to inform the user about how\n",
        "# their guess compares to the answer.\n",
        "# '''\n",
        "answer =122 #provide answer\n",
        "guess = 46 #provide guess\n",
        "if (answer > guess):\n",
        " result = \"Oops! Your guess was too low.\"\n",
        "elif (answer < guess):\n",
        " result = \"Oops! Your guess was too high.\"\n",
        "elif (answer == guess):\n",
        " result = \"Nice! Your guess matched the answer!\"\n",
        "print(result)\n"
      ],
      "metadata": {
        "colab": {
          "base_uri": "https://localhost:8080/"
        },
        "id": "1fwxpGcVwd7C",
        "outputId": "5a9372f3-c8ab-408b-ab0b-368a7061bb99"
      },
      "execution_count": null,
      "outputs": [
        {
          "output_type": "stream",
          "name": "stdout",
          "text": [
            "Oops! Your guess was too low.\n"
          ]
        }
      ]
    },
    {
      "cell_type": "markdown",
      "source": [
        "# TASK 3\n",
        "Depending on where an individual is from we need to tax them appropriately. The\n",
        "states of CA, MN, and NY have taxes of 7.5%, 9.5%, and 8.9% respectively. Use this\n",
        "information to take the amount of a purchase and the corresponding state to assure\n",
        "that they are taxed by the right amount"
      ],
      "metadata": {
        "id": "-xpm-etgzq1R"
      }
    },
    {
      "cell_type": "code",
      "source": [
        "state = \"MN\"\n",
        "purchase_amount = 13\n",
        "if state == \"CA\":\n",
        "        tax_amount = .075\n",
        "        total_cost = purchase_amount+purchase_amount*(tax_amount)\n",
        "        result = \"Since you're from {}, your total cost is {}.\".format(state, total_cost)\n",
        "\n",
        "elif state == \"MN\":\n",
        "        tax_amount = .095\n",
        "        total_cost = purchase_amount+purchase_amount*(tax_amount)\n",
        "        result = \"Since you're from {}, your total cost is {}.\".format(state, total_cost)\n",
        "\n",
        "elif state == \"NY\":\n",
        "        tax_amount = .089\n",
        "        total_cost = purchase_amount+purchase_amount*(tax_amount)\n",
        "        result = \"Since you're from {}, your total cost is {}.\".format(state, total_cost)\n",
        "\n",
        "print(result)"
      ],
      "metadata": {
        "colab": {
          "base_uri": "https://localhost:8080/"
        },
        "id": "imBKRO_k0JHt",
        "outputId": "c9e08869-c1d0-4eff-9178-6e182aa571af"
      },
      "execution_count": null,
      "outputs": [
        {
          "output_type": "stream",
          "name": "stdout",
          "text": [
            "Since you're from MN, your total cost is 14.235.\n"
          ]
        }
      ]
    },
    {
      "cell_type": "markdown",
      "source": [
        "#Task 4\n",
        "Use a for loop to take a list and print each element of the list in its own line.\n",
        "Example:\n",
        "sentence = [\"the\", \"quick\", \"brown\", \"fox\", \"jumped\", \"over\", \"the\",\n",
        "\"lazy\", \"dog\"]\n",
        "Output:\n",
        "the\n",
        "\n",
        "quick\n",
        "\n",
        "brown\n",
        "\n",
        ".."
      ],
      "metadata": {
        "id": "cCvdw5DI3Cjw"
      }
    },
    {
      "cell_type": "code",
      "source": [
        "sentence = [\"the\", \"quick\", \"brown\", \"fox\", \"jumped\", \"over\", \"the\", \"lazy\", \"dog\"]\n",
        "for word in sentence:\n",
        "  print(word)"
      ],
      "metadata": {
        "colab": {
          "base_uri": "https://localhost:8080/"
        },
        "id": "kV54cONb3VUc",
        "outputId": "2402f425-e72b-4035-9eaf-84f9f4206b85"
      },
      "execution_count": null,
      "outputs": [
        {
          "output_type": "stream",
          "name": "stdout",
          "text": [
            "the\n",
            "quick\n",
            "brown\n",
            "fox\n",
            "jumped\n",
            "over\n",
            "the\n",
            "lazy\n",
            "dog\n"
          ]
        }
      ]
    },
    {
      "cell_type": "markdown",
      "source": [
        "#TASK 5\n",
        "Multiples of 5\n",
        "Write a for loop below that will print out every whole number that is a multiple of 5\n",
        "and less than or equal to 30\n",
        "This should output:\n",
        "5\n",
        "10\n",
        "15\n",
        "20\n",
        "25\n",
        "30"
      ],
      "metadata": {
        "id": "kyEG8GHt3isg"
      }
    },
    {
      "cell_type": "code",
      "source": [
        "for i in range(5,35,5):\n",
        "  print(i)"
      ],
      "metadata": {
        "colab": {
          "base_uri": "https://localhost:8080/"
        },
        "id": "V249kKHU3uzo",
        "outputId": "f71cd2af-a424-4647-8f2b-a33b59458008"
      },
      "execution_count": null,
      "outputs": [
        {
          "output_type": "stream",
          "name": "stdout",
          "text": [
            "5\n",
            "10\n",
            "15\n",
            "20\n",
            "25\n",
            "30\n"
          ]
        }
      ]
    },
    {
      "cell_type": "markdown",
      "source": [
        "#Task 6\n",
        "Extract First Names\n",
        "Use a list comprehension to create a new list first_names containing just the first\n",
        "names in names in lowercase."
      ],
      "metadata": {
        "id": "zHxMm2cP4FEP"
      }
    },
    {
      "cell_type": "code",
      "source": [
        "names = [\"Rick Sanchez\", \"Morty Smith\", \"Summer Smith\", \"Jerry Smith\", \"Beth Smith\"]\n",
        "first_names = [name.lower().split()[0] for name in names]# write your list comprehension here\n",
        "print(first_names)\n"
      ],
      "metadata": {
        "colab": {
          "base_uri": "https://localhost:8080/"
        },
        "id": "Fe0cMndP4ebO",
        "outputId": "f1e56bce-a0ce-44f4-d276-d62c9a7026da"
      },
      "execution_count": null,
      "outputs": [
        {
          "output_type": "stream",
          "name": "stdout",
          "text": [
            "['rick', 'morty', 'summer', 'jerry', 'beth']\n"
          ]
        }
      ]
    },
    {
      "cell_type": "markdown",
      "source": [
        "#TAsk 7\n",
        "Use a list comprehension to create a list multiples_3 containing the first 20\n",
        "multiples of 3.\n",
        "multiples_3 = # write your list comprehension here\n",
        "print(multiples_3)"
      ],
      "metadata": {
        "id": "YYpGjJFN5Bs8"
      }
    },
    {
      "cell_type": "code",
      "source": [
        "multiples_3 = [x for x in range(3,3*20+1,3)] # write your list comprehension here\n",
        "print(multiples_3)"
      ],
      "metadata": {
        "colab": {
          "base_uri": "https://localhost:8080/"
        },
        "id": "CZhL5Llj5LKI",
        "outputId": "40bbc4d1-dc10-4c1d-efef-85b6c8583295"
      },
      "execution_count": null,
      "outputs": [
        {
          "output_type": "stream",
          "name": "stdout",
          "text": [
            "[3, 6, 9, 12, 15, 18, 21, 24, 27, 30, 33, 36, 39, 42, 45, 48, 51, 54, 57, 60]\n"
          ]
        }
      ]
    },
    {
      "cell_type": "markdown",
      "source": [
        "#TASK 8\n",
        "Filter Names by Scores\n",
        "Use a list comprehension to create a list of names passed that only include those\n",
        "that scored at least 65"
      ],
      "metadata": {
        "id": "2tpUNahj5vc3"
      }
    },
    {
      "cell_type": "code",
      "source": [
        "scores = {\n",
        " \"Rick Sanchez\": 70,\n",
        " \"Morty Smith\": 35,\n",
        " \"Summer Smith\": 82,\n",
        " \"Jerry Smith\": 23,\n",
        " \"Beth Smith\": 98\n",
        " }\n",
        "passed =[name for name, score in scores.items() if score >= 65]# write your list comprehension here\n",
        "print(passed)"
      ],
      "metadata": {
        "colab": {
          "base_uri": "https://localhost:8080/"
        },
        "id": "VmVcNYqW57q8",
        "outputId": "e4d2cba6-372b-47e1-bbb1-57ffc23d2765"
      },
      "execution_count": null,
      "outputs": [
        {
          "output_type": "stream",
          "name": "stdout",
          "text": [
            "['Rick Sanchez', 'Summer Smith', 'Beth Smith']\n"
          ]
        }
      ]
    },
    {
      "cell_type": "markdown",
      "source": [
        "#TASK 9\n",
        "Use zip to create a dictionary cast that uses names as keys and heights as\n",
        "values.\n"
      ],
      "metadata": {
        "id": "8iIg3Hxl7OPE"
      }
    },
    {
      "cell_type": "code",
      "source": [
        "cast_names = [\"Barney\", \"Robin\", \"Ted\", \"Lily\", \"Marshall\"]\n",
        "cast_heights = [72, 68, 72, 66, 76]\n",
        "cast = dict(zip(cast_names, cast_heights))\n",
        "print(cast)"
      ],
      "metadata": {
        "colab": {
          "base_uri": "https://localhost:8080/"
        },
        "id": "XBffhySz7TY-",
        "outputId": "2d2b7338-30e8-408a-b8bc-94de7ad0d68e"
      },
      "execution_count": null,
      "outputs": [
        {
          "output_type": "stream",
          "name": "stdout",
          "text": [
            "{'Barney': 72, 'Robin': 68, 'Ted': 72, 'Lily': 66, 'Marshall': 76}\n"
          ]
        }
      ]
    },
    {
      "cell_type": "markdown",
      "source": [
        "#TASK 10\n",
        "Use enumerate to modify the cast list so that each element contains the\n",
        "name followed by the character's corresponding height. For example, the first\n",
        "element of cast should change from \"Barney Stinson\" to \"Barney Stinson\n",
        "72\".\n"
      ],
      "metadata": {
        "id": "mFMM1RK782qK"
      }
    },
    {
      "cell_type": "code",
      "source": [
        "cast = [\"Barney Stinson\", \"Robin Scherbatsky\", \"Ted Mosby\",\n",
        "\"Lily Aldrin\", \"Marshall Eriksen\"]\n",
        "heights = [72, 68, 72, 66, 76]\n",
        "# write your for loop here\n",
        "for index, height in enumerate(heights):\n",
        "    s = \"{} {}\".format(cast[index], height)\n",
        "    cast[index] = s\n",
        "print(cast)"
      ],
      "metadata": {
        "colab": {
          "base_uri": "https://localhost:8080/"
        },
        "id": "cPtosyOZ9Cga",
        "outputId": "f51c59e3-da8f-4dcb-f781-a87b2f6c2377"
      },
      "execution_count": null,
      "outputs": [
        {
          "output_type": "stream",
          "name": "stdout",
          "text": [
            "['Barney Stinson 72', 'Robin Scherbatsky 68', 'Ted Mosby 72', 'Lily Aldrin 66', 'Marshall Eriksen 76']\n"
          ]
        }
      ]
    }
  ]
}