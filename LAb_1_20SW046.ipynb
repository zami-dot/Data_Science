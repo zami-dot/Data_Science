{
  "nbformat": 4,
  "nbformat_minor": 0,
  "metadata": {
    "colab": {
      "provenance": [],
      "authorship_tag": "ABX9TyOJ54cQkdD0fOL5AxA84XKk",
      "include_colab_link": true
    },
    "kernelspec": {
      "name": "python3",
      "display_name": "Python 3"
    },
    "language_info": {
      "name": "python"
    }
  },
  "cells": [
    {
      "cell_type": "markdown",
      "metadata": {
        "id": "view-in-github",
        "colab_type": "text"
      },
      "source": [
        "<a href=\"https://colab.research.google.com/github/zami-dot/Data_Science/blob/main/LAb_1_20SW046.ipynb\" target=\"_parent\"><img src=\"https://colab.research.google.com/assets/colab-badge.svg\" alt=\"Open In Colab\"/></a>"
      ]
    },
    {
      "cell_type": "markdown",
      "source": [
        "\n",
        "LAB 1\n",
        "\n",
        "Roll_no 20SW046\n",
        "\n",
        "Section 2\n"
      ],
      "metadata": {
        "id": "yWKiGwtoL2v3"
      }
    },
    {
      "cell_type": "markdown",
      "source": [
        "LAB 1\n",
        "\n",
        "# TASK 1\n",
        "\n",
        "# Write two lines of code below, each assigning a value to a variable\n",
        "# Now write a print statement using .format() to print out a sentence and the\n",
        "# values of both of the variables"
      ],
      "metadata": {
        "id": "Gnfmfy8BMtq_"
      }
    },
    {
      "cell_type": "code",
      "source": [
        "name = \"Zameer\"\n",
        "roll = \"20sw046\"\n",
        "print(\"my name is {} and roll no is {}\".format(name,roll))"
      ],
      "metadata": {
        "colab": {
          "base_uri": "https://localhost:8080/"
        },
        "id": "SCDIXhZjM5fo",
        "outputId": "6c2e70d6-aefc-43c6-b6de-9860b322f51c"
      },
      "execution_count": 1,
      "outputs": [
        {
          "output_type": "stream",
          "name": "stdout",
          "text": [
            "my name is Zameer and roll no is 20sw046\n"
          ]
        }
      ]
    },
    {
      "cell_type": "markdown",
      "source": [
        "# TASK 2\n",
        "# Browse the complete list of string methods at:\n",
        "# https://docs.python.org/3/library/stdtypes.html#string-methods\n",
        "# and try them out here"
      ],
      "metadata": {
        "id": "pJZibnfZNPoc"
      }
    },
    {
      "cell_type": "code",
      "source": [
        "sentence = \"Hello my name is Zameer my roll no is 46\"\n",
        "print(\"Type \"+str(type(sentence)))\n",
        "print(\"length \"+str(len(sentence)))\n",
        "print(\"Capitalize \"+str(sentence.capitalize()))\n",
        "print(\"Casefold \"+str(sentence.casefold()))\n",
        "print(\"To uppercase \"+str(sentence.upper()))\n",
        "print(\"To lowercase \"+str(sentence.lower()))\n",
        "print(\"Endwith 46? \"+str(sentence.endswith(\"46\")))\n",
        "print(\"startwith Hello ? \"+str(sentence.startswith(\"Hello\")))\n",
        "print(\"have Zameer? in string \"+str(\"Zameer\" in sentence))\n",
        "print(\"find Zameer? in string \"+str(sentence.find(\"Zameer\")))\n",
        "print(\"Index of '46' \"+str(sentence.index(\"46\")))\n",
        "print(\"IS Alpha \"+str(sentence.isalpha()))\n",
        "print(\"IS num \"+str(sentence.isalnum()))\n",
        "print(sentence[0:10])\n",
        "print(\"count occurance of 46 \"+str(sentence.count(\"46\")))\n",
        "print(\"split string \"+str(sentence.split()))"
      ],
      "metadata": {
        "colab": {
          "base_uri": "https://localhost:8080/"
        },
        "id": "ATJ7_8mFN12H",
        "outputId": "0d7d65dd-537f-42df-dc2c-a5cb1c79b29f"
      },
      "execution_count": 2,
      "outputs": [
        {
          "output_type": "stream",
          "name": "stdout",
          "text": [
            "Type <class 'str'>\n",
            "length 40\n",
            "Capitalize Hello my name is zameer my roll no is 46\n",
            "Casefold hello my name is zameer my roll no is 46\n",
            "To uppercase HELLO MY NAME IS ZAMEER MY ROLL NO IS 46\n",
            "To lowercase hello my name is zameer my roll no is 46\n",
            "Endwith 46? True\n",
            "startwith Hello ? True\n",
            "have Zameer? in string True\n",
            "find Zameer? in string 17\n",
            "Index of '46' 38\n",
            "IS Alpha False\n",
            "IS num False\n",
            "Hello my n\n",
            "count occurance of 46 1\n",
            "split string ['Hello', 'my', 'name', 'is', 'Zameer', 'my', 'roll', 'no', 'is', '46']\n"
          ]
        }
      ]
    },
    {
      "cell_type": "markdown",
      "source": [
        "# TASK 3\n",
        "List Indexing\n",
        "Use list indexing to determine how many days are in a particular month based on the\n",
        "integer variable month , and store that value in the integer variable num_days . For\n",
        "example, if month is 8, num_days should be set to 31, since the eighth month, August,\n",
        "has 31 days.\n",
        "Remember to account for zero-based indexing"
      ],
      "metadata": {
        "id": "98JlYbSgS-gM"
      }
    },
    {
      "cell_type": "code",
      "source": [
        "month = 8\n",
        "days_in_month = [31,28,31,30,31,30,31,31,30,31,30,31]\n",
        "# use list indexing to determine the number of days in month\n",
        "num_days=days_in_month[month-1]\n",
        "print(num_days)\n"
      ],
      "metadata": {
        "colab": {
          "base_uri": "https://localhost:8080/"
        },
        "id": "DGsfgmxvTg_B",
        "outputId": "4ccd0821-d0e7-4eb4-80e0-0bec1e94a099"
      },
      "execution_count": 9,
      "outputs": [
        {
          "output_type": "stream",
          "name": "stdout",
          "text": [
            "31\n"
          ]
        }
      ]
    },
    {
      "cell_type": "code",
      "source": [],
      "metadata": {
        "id": "8ma6enykTz4a"
      },
      "execution_count": null,
      "outputs": []
    },
    {
      "cell_type": "markdown",
      "source": [
        "# TASK 4\n",
        "Select the three most recent dates from this list using list slicing notation. Hint: negative indexes\n",
        "work in slices!\n",
        "eclipse_dates = ['June 21, 2001', 'December 4, 2002', 'November 23,\n",
        "2003',\n",
        " 'March 29, 2006', 'August 1, 2008', 'July 22, 2009',\n",
        " 'July 11, 2010', 'November 13, 2012', 'March 20,\n",
        "2015',\n",
        " 'March 9, 2016']\n",
        "\n",
        " TODO: Modify this line so it prints the last three elements of the\n",
        "list\n",
        "print(eclipse_dates)"
      ],
      "metadata": {
        "id": "oaGsWITBUoSx"
      }
    },
    {
      "cell_type": "code",
      "source": [
        "eclipse_dates = ['June 21, 2001', 'December 4, 2002', 'November 23, 2003',\n",
        " 'March 29, 2006', 'August 1, 2008', 'July 22, 2009',\n",
        " 'July 11, 2010', 'November 13, 2012', 'March 20, 2015',\n",
        " 'March 9, 2016']\n",
        "\n",
        "\n",
        "# TODO: Modify this line so it prints the last three elements of the\n",
        "list\n",
        "print(eclipse_dates[-3:])"
      ],
      "metadata": {
        "colab": {
          "base_uri": "https://localhost:8080/"
        },
        "id": "ZJtXDg4FUvpn",
        "outputId": "c0d3df66-3d09-4c34-94ab-1167f616a920"
      },
      "execution_count": 7,
      "outputs": [
        {
          "output_type": "stream",
          "name": "stdout",
          "text": [
            "['November 13, 2012', 'March 20, 2015', 'March 9, 2016']\n"
          ]
        }
      ]
    },
    {
      "cell_type": "markdown",
      "source": [
        "# TASK 5\n",
        "Store student’s data using nested dictionary.\n",
        ""
      ],
      "metadata": {
        "id": "6OdzonNCVOTg"
      }
    },
    {
      "cell_type": "code",
      "source": [
        "Students = {\"Zameer\": {\"name\": \"Zameer\",\n",
        " \"weight\": 70,\n",
        " \"rollno\": \"20SW46\",\n",
        " \"section\": 2\n",
        " },\n",
        " \"Waseem\": {\"name\": \"Waseem\",\n",
        " \"weight\": 25,\n",
        " \"rollno\": \"20SW22\",\n",
        " \"section\": 2\n",
        " }}\n",
        "print(Students[\"Zameer\"][\"rollno\"])"
      ],
      "metadata": {
        "colab": {
          "base_uri": "https://localhost:8080/"
        },
        "id": "xQidCVBsWBQL",
        "outputId": "d32e244f-c293-4227-f02f-0c3e41af91f2"
      },
      "execution_count": 8,
      "outputs": [
        {
          "output_type": "stream",
          "name": "stdout",
          "text": [
            "20SW46\n"
          ]
        }
      ]
    }
  ]
}