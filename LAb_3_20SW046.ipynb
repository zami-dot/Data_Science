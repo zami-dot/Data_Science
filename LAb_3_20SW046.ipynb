{
  "nbformat": 4,
  "nbformat_minor": 0,
  "metadata": {
    "colab": {
      "provenance": [],
      "authorship_tag": "ABX9TyNEQQ9WYpkoPYrz4XSs3yr3",
      "include_colab_link": true
    },
    "kernelspec": {
      "name": "python3",
      "display_name": "Python 3"
    },
    "language_info": {
      "name": "python"
    }
  },
  "cells": [
    {
      "cell_type": "markdown",
      "metadata": {
        "id": "view-in-github",
        "colab_type": "text"
      },
      "source": [
        "<a href=\"https://colab.research.google.com/github/zami-dot/Data_Science/blob/main/LAb_3_20SW046.ipynb\" target=\"_parent\"><img src=\"https://colab.research.google.com/assets/colab-badge.svg\" alt=\"Open In Colab\"/></a>"
      ]
    },
    {
      "cell_type": "markdown",
      "source": [
        "\n",
        "LAB 3\n",
        "\n",
        "Roll_no 20SW046\n",
        "\n",
        "Section 2\n",
        "\n"
      ],
      "metadata": {
        "id": "lwfO2dBTLxHg"
      }
    },
    {
      "cell_type": "markdown",
      "source": [
        "LAB 3\n",
        "\n",
        "# TASK 1\n",
        "Write a function named population_density that takes two\n",
        "arguments, population and land_area , and returns a population density\n",
        "calculated from those values. I've included two test cases that you can use to verify\n",
        "that your function works correctly. Once you've written your function, use the Test\n",
        "Run button to test your code"
      ],
      "metadata": {
        "id": "zAcX23h0Lzr7"
      }
    },
    {
      "cell_type": "code",
      "source": [
        "# write your function here\n",
        "def population_density(population,land_area):\n",
        "  return population/land_area\n",
        "# test cases for your function\n",
        "test1 = population_density(10, 1)\n",
        "expected_result1 = 10\n",
        "print(\"expected result: {}, actual result: {}\".format(expected_result1, test1))\n",
        "test2 = population_density(864816, 121.4)\n",
        "expected_result2 = 7123.6902801\n",
        "print(\"expected result: {}, actual result: {}\".format(expected_result2, test2))\n"
      ],
      "metadata": {
        "colab": {
          "base_uri": "https://localhost:8080/"
        },
        "id": "2VYiNM85MBTX",
        "outputId": "e38f2e10-da97-4919-da43-4c31d44d7a81"
      },
      "execution_count": null,
      "outputs": [
        {
          "output_type": "stream",
          "name": "stdout",
          "text": [
            "expected result: 10, actual result: 10.0\n",
            "expected result: 7123.6902801, actual result: 7123.690280065897\n"
          ]
        }
      ]
    },
    {
      "cell_type": "markdown",
      "source": [
        "#Task#02\n",
        "readable_timedelta\n",
        "Write a function named readable_timedelta . The function should take one\n",
        "argument, an integer days , and return a string that says how many weeks and days\n",
        "that is. For example, calling the function and printing the result like this:\n",
        "print(readable_timedelta(10))\n",
        "should output the following:\n",
        "1 week(s) and 3 day(s).\n"
      ],
      "metadata": {
        "id": "tugA97PpNQsX"
      }
    },
    {
      "cell_type": "code",
      "source": [
        "# write your function here\n",
        "def readable_timedelta(days):\n",
        "  week = int(days / 7)\n",
        "  day = int(days % 7)\n",
        "  return \"{} week(s) and {} day(s)\".format(week, day)\n",
        "\n",
        "# test your function\n",
        "print(readable_timedelta(10))"
      ],
      "metadata": {
        "colab": {
          "base_uri": "https://localhost:8080/"
        },
        "id": "YtbvUWayNXzT",
        "outputId": "90275777-b17d-4c72-8bbe-db88b0ddf148"
      },
      "execution_count": null,
      "outputs": [
        {
          "output_type": "stream",
          "name": "stdout",
          "text": [
            "1 week(s) and 3 day(s)\n"
          ]
        }
      ]
    },
    {
      "cell_type": "markdown",
      "source": [
        "#Task#03\n",
        "Lambda with Map\n",
        "map() is a higher-order built-in function that takes a function and iterable as inputs,\n",
        "and returns an iterator that applies the function to each element of the iterable. The\n",
        "code below uses map() to find the mean of each list in numbers to create the\n",
        "list averages . Give it a test run to see what happens.\n",
        "Rewrite this code to be more concise by replacing the mean function with a lambda\n",
        "expression defined within the call to map() .\n"
      ],
      "metadata": {
        "id": "16vhoNhNPzug"
      }
    },
    {
      "cell_type": "code",
      "source": [
        "numbers = [\n",
        " [34, 63, 88, 71, 29],\n",
        " [90, 78, 51, 27, 45],\n",
        " [63, 37, 85, 46, 22],\n",
        " [51, 22, 34, 11, 18]\n",
        " ]\n",
        "mean = lambda num_list : sum(num_list) / len(num_list)\n",
        "averages = list(map(mean, numbers))\n",
        "print(averages)"
      ],
      "metadata": {
        "colab": {
          "base_uri": "https://localhost:8080/"
        },
        "id": "BUQrMemOP1da",
        "outputId": "e5c23f9f-8f84-473f-a4bf-4ef20140e4ac"
      },
      "execution_count": null,
      "outputs": [
        {
          "output_type": "stream",
          "name": "stdout",
          "text": [
            "[57.0, 58.2, 50.6, 27.2]\n"
          ]
        }
      ]
    },
    {
      "cell_type": "markdown",
      "source": [
        "#Task#04\n",
        "Lambda with Filter\n",
        "filter() is a higher-order built-in function that takes a function and iterable as\n",
        "inputs and returns an iterator with the elements from the iterable for which the\n",
        "function returns True. The code below uses filter() to get the names\n",
        "in cities that are fewer than 10 characters long to create the list short_cities .\n",
        "Give it a test run to see what happens.\n",
        "Rewrite this code to be more concise by replacing the is_short function with a\n",
        "lambda expression defined within the call to filter() ."
      ],
      "metadata": {
        "id": "B_QRn0g9RC3d"
      }
    },
    {
      "cell_type": "code",
      "source": [
        "cities = [\"New York City\", \"Los Angeles\", \"Chicago\", \"Mountain View\", \"Denver\", \"Boston\"]\n",
        "is_short = lambda name : len(name) < 10\n",
        "short_cities = list(filter(is_short, cities))\n",
        "print(short_cities)\n"
      ],
      "metadata": {
        "colab": {
          "base_uri": "https://localhost:8080/"
        },
        "id": "hkqMZW5XRKhR",
        "outputId": "6bcf7809-d86b-4454-c541-6d9f9dd72e7a"
      },
      "execution_count": null,
      "outputs": [
        {
          "output_type": "stream",
          "name": "stdout",
          "text": [
            "['Chicago', 'Denver', 'Boston']\n"
          ]
        }
      ]
    },
    {
      "cell_type": "markdown",
      "source": [
        "# Task#05\n",
        "Generate Messages\n",
        "Imagine you're a teacher who needs to send a message to each of your students\n",
        "reminding them of their missing assignments and grade in the class. You have each\n",
        "of their names, number of missing assignments, and grades on a spreadsheet and\n",
        "just have to insert them into placeholders in this message you came up with:\n",
        "Hi [insert student name],\n",
        "This is a reminder that you have [insert number of missing\n",
        "assignments] assignments left to submit before you can graduate. Your current\n",
        "grade is [insert current grade] and can increase to [insert potential grade] if you\n",
        "submit all assignments before the due date.\n",
        "You can just copy and paste this message to each student and manually insert the\n",
        "appropriate values each time, but instead you're going to write a program that does\n",
        "this for you.\n",
        "Write a script that does the following:\n",
        "1. Ask for user input 3 times. Once for a list of names, once for a list of missing\n",
        "assignment counts, and once for a list of grades. Use this input to create lists\n",
        "for names , assignments , and grades .\n",
        "2. Use a loop to print the message for each student with the correct values. The\n",
        "potential grade is simply the current grade added to two times the number of\n",
        "missing assignments.\n"
      ],
      "metadata": {
        "id": "OPBqF1y8SE4L"
      }
    },
    {
      "cell_type": "code",
      "source": [
        "names = input(\"Enter names seprated by comma :\")# get and process input for a list of names\n",
        "assignments = input(\"Enter remain assignments seprated by comma :\")# get and process input for a list of the number of assignments\n",
        "grades = input(\"Enter grades seprated by comma :\")# get and process input for a list of grades\n",
        "name=names.split(',')\n",
        "assignment=assignments.split(',')\n",
        "grade=grades.split(',')\n",
        "# message string to be used for each student\n",
        "# HINT: use .format() with this string in your for loop\n",
        "message = \"Hi {},\\n\\nThis is a reminder that you have {} assignments left to \\\n",
        "submit before you can graduate. You're current grade is {} and can increase \\\n",
        "to {} if you submit all assignments before the due date.\\n\\n\"\n",
        "# write a for loop that iterates through each set of names, assignments, and grades to print each student's message\n",
        "for n,m,o in zip(name , assignment , grade):\n",
        "  print(message.format(n,m,o,int(o)+int((int(m)*2))))\n"
      ],
      "metadata": {
        "colab": {
          "base_uri": "https://localhost:8080/"
        },
        "id": "-RjnroRySQvy",
        "outputId": "ab95053b-6ec4-4ede-d855-b1cf326996a6"
      },
      "execution_count": null,
      "outputs": [
        {
          "output_type": "stream",
          "name": "stdout",
          "text": [
            "Enter names seprated by comma :zameer,ali\n",
            "Enter remain assignments seprated by comma :10,11\n",
            "Enter grades seprated by comma :11,11\n",
            "Hi zameer,\n",
            "\n",
            "This is a reminder that you have 10 assignments left to submit before you can graduate. You're current grade is 11 and can increase to 31 if you submit all assignments before the due date.\n",
            "\n",
            "\n",
            "Hi ali,\n",
            "\n",
            "This is a reminder that you have 11 assignments left to submit before you can graduate. You're current grade is 11 and can increase to 33 if you submit all assignments before the due date.\n",
            "\n",
            "\n"
          ]
        }
      ]
    },
    {
      "cell_type": "markdown",
      "source": [
        "#Task#06\n",
        "Reading and Writing Files\n",
        "Calling the read Method with an Integer\n",
        "In the code you saw earlier, the call to f.read() had no arguments passed to it. This\n",
        "defaults to reading all the remainder of the file from its current position - the whole\n",
        "file. If you pass the read method an integer argument, it will read up to that number\n",
        "of characters, output all of them, and keep the 'window' at that position ready to read\n",
        "on.\n"
      ],
      "metadata": {
        "id": "KwJ95q49cmUJ"
      }
    },
    {
      "cell_type": "code",
      "source": [
        "with open(\"camelot.txt\") as song:\n",
        " print(song.read(2))\n",
        " print(song.read(8))\n",
        " print(song.read())\n",
        "\n",
        "\n",
        "camelot_lines = []\n",
        "with open(\"camelot.txt\") as f:\n",
        "  for line in f:\n",
        "    camelot_lines.append(line.strip())\n",
        "print(camelot_lines)\n"
      ],
      "metadata": {
        "colab": {
          "base_uri": "https://localhost:8080/"
        },
        "id": "PQM6WGC5ctwI",
        "outputId": "13c3e116-7ae7-4ea7-b6ff-2af2003e80cb"
      },
      "execution_count": 2,
      "outputs": [
        {
          "output_type": "stream",
          "name": "stdout",
          "text": [
            "We\n",
            "'re the \n",
            "knights of the round table\n",
            "We dance whenever we're able\n",
            "[\"We're the knights of the round table\", \"We dance whenever we're able\"]\n"
          ]
        }
      ]
    },
    {
      "cell_type": "markdown",
      "source": [
        "#TASK 7\n",
        "Flying Circus Cast List\n",
        "You're going to create a list of the actors who appeared in the television programme\n",
        "Monty Python's Flying Circus.\n",
        "Write a function called create_cast_list that takes a filename as input and returns\n",
        "a list of actors' names.\n",
        "It will be run on the file flying_circus_cast.txt (this information was collected\n",
        "from imdb.com). Each line of that file consists of an actor's name, a comma, and then\n",
        "some (messy) information about roles they played in the programme. You'll need to\n",
        "extract only the name and add it to a list. You might use the .split() method to\n",
        "process each line.\n"
      ],
      "metadata": {
        "id": "g9x1Ek1Qgdqn"
      }
    },
    {
      "cell_type": "code",
      "source": [
        "def create_cast_list(filename):\n",
        " cast_list = []\n",
        " #use with to open the file filename\n",
        " with open(filename) as z:\n",
        " #use the for loop syntax to process each line\n",
        "  for line in z:\n",
        " #and add the actor name to cast_list\n",
        "    line=line.split(',')\n",
        "    cast_list.append(line[0])\n",
        " return cast_list\n",
        "cast_list = create_cast_list('flying_circus_cast.txt')\n",
        "for actor in cast_list:\n",
        " print(actor)"
      ],
      "metadata": {
        "colab": {
          "base_uri": "https://localhost:8080/"
        },
        "id": "-NOfd6U9gnR2",
        "outputId": "ab283096-fcce-4e18-8ac4-622ebc24d0a8"
      },
      "execution_count": 3,
      "outputs": [
        {
          "output_type": "stream",
          "name": "stdout",
          "text": [
            "Graham Chapman\n",
            "Eric Idle\n",
            "Terry Jones\n",
            "Michael Palin\n",
            "Terry Gilliam\n",
            "John Cleese\n",
            "Carol Cleveland\n",
            "Ian Davidson\n",
            "John Hughman\n",
            "The Fred Tomlinson Singers\n",
            "Connie Booth\n",
            "Bob Raymond\n",
            "Lyn Ashley\n",
            "Rita Davies\n",
            "Stanley Mason\n",
            "David Ballantyne\n",
            "Donna Reading\n",
            "Peter Brett\n",
            "Maureen Flanagan\n",
            "Katya Wyeth\n",
            "Frank Lester\n",
            "Neil Innes\n",
            "Dick Vosburgh\n",
            "Sandra Richards\n",
            "Julia Breck\n",
            "Nicki Howorth\n",
            "Jimmy Hill\n",
            "Barry Cryer\n",
            "Jeannette Wild\n",
            "Marjorie Wilde\n",
            "Marie Anderson\n",
            "Caron Gardner\n",
            "Nosher Powell\n",
            "Carolae Donoghue\n",
            "Vincent Wong\n",
            "Helena Clayton\n",
            "Nigel Jones\n",
            "Roy Gunson\n",
            "Daphne Davey\n",
            "Stenson Falke\n",
            "Alexander Curry\n",
            "Frank Williams\n",
            "Ralph Wood\n",
            "Rosalind Bailey\n",
            "Marion Mould\n",
            "Sheila Sands\n",
            "Richard Baker\n",
            "Douglas Adams\n",
            "Ewa Aulin\n",
            "Reginald Bosanquet\n",
            "Barbara Lindley\n",
            "Roy Brent\n",
            "Jonas Card\n",
            "Tony Christopher\n",
            "Beulah Hughes\n",
            "Peter Kodak\n",
            "Lulu\n",
            "Jay Neill\n",
            "Graham Skidmore\n",
            "Ringo Starr\n",
            "Fred Tomlinson\n",
            "David Hamilton\n",
            "Suzy Mandel\n",
            "Peter Woods\n"
          ]
        }
      ]
    }
  ]
}